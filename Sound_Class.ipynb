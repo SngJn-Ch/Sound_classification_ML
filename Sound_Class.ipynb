{
 "cells": [
  {
   "cell_type": "code",
   "execution_count": 35,
   "metadata": {},
   "outputs": [],
   "source": [
    "import pandas as pd\n",
    "import numpy as np\n",
    "\n",
    "pd.plotting.register_matplotlib_converters()\n",
    "import matplotlib.pyplot as plt\n",
    "%matplotlib inline\n",
    "import seaborn as sns\n",
    "\n",
    "from sklearn.model_selection import train_test_split\n",
    "from sklearn.utils import shuffle\n",
    "from tensorflow import keras\n",
    "\n",
    "from tensorflow.keras.models import Sequential\n",
    "from tensorflow.keras.models import load_model\n",
    "from tensorflow.keras.layers import Conv2D, Flatten, Dense, MaxPool2D, Dropout\n",
    "from tensorflow.keras.utils import to_categorical \n",
    "\n",
    "import os\n",
    "import librosa\n",
    "import librosa.display\n",
    "\n",
    "from sklearn.metrics import confusion_matrix\n",
    "import itertools\n",
    "from sklearn.metrics import f1_score"
   ]
  },
  {
   "cell_type": "code",
   "execution_count": 36,
   "metadata": {},
   "outputs": [
    {
     "name": "stdout",
     "output_type": "stream",
     "text": [
      "c:\\Users\\decem\\Desktop\\Exercise Files\n"
     ]
    }
   ],
   "source": [
    "current_path = os.getcwd()\n",
    "\n",
    "print(current_path)"
   ]
  },
  {
   "cell_type": "code",
   "execution_count": 37,
   "metadata": {},
   "outputs": [
    {
     "name": "stderr",
     "output_type": "stream",
     "text": [
      "C:\\Users\\decem\\AppData\\Local\\Programs\\Python\\Python39\\lib\\site-packages\\librosa\\core\\spectrum.py:2538: UserWarning: n_fft=2048 is too small for input signal of length=1323\n",
      "  stft(\n",
      "C:\\Users\\decem\\AppData\\Local\\Programs\\Python\\Python39\\lib\\site-packages\\librosa\\core\\spectrum.py:2538: UserWarning: n_fft=2048 is too small for input signal of length=1103\n",
      "  stft(\n",
      "C:\\Users\\decem\\AppData\\Local\\Programs\\Python\\Python39\\lib\\site-packages\\librosa\\core\\spectrum.py:2538: UserWarning: n_fft=2048 is too small for input signal of length=1523\n",
      "  stft(\n"
     ]
    },
    {
     "name": "stdout",
     "output_type": "stream",
     "text": [
      "(8732,) (8732,)\n"
     ]
    },
    {
     "name": "stderr",
     "output_type": "stream",
     "text": [
      "C:\\Users\\decem\\AppData\\Local\\Temp/ipykernel_17364/2560934417.py:21: VisibleDeprecationWarning: Creating an ndarray from ragged nested sequences (which is a list-or-tuple of lists-or-tuples-or ndarrays with different lengths or shapes) is deprecated. If you meant to do this, you must specify 'dtype=object' when creating the ndarray.\n",
      "  temp = np.array(temp)\n"
     ]
    }
   ],
   "source": [
    "\n",
    "df = pd.read_csv(\"SD_Project/UrbanSound8K/metadata/UrbanSound8K.csv\")\n",
    "\n",
    "data_size = len(df)\n",
    "\n",
    "feature = []\n",
    "label = []\n",
    "\n",
    "def parser(row):\n",
    "    # Function to load files and extract features\n",
    "    for i in range(data_size):\n",
    "        file_name = 'SD_Project/Urbansound8k/audio/fold' + str(df[\"fold\"][i]) + '/' + df[\"slice_file_name\"][i]\n",
    "        # Here kaiser_fast is a technique used for faster extraction\n",
    "        X, sample_rate = librosa.load(file_name, res_type='kaiser_fast') \n",
    "        # We extract mfcc feature from data\n",
    "        mels = np.mean(librosa.feature.melspectrogram(y=X, sr=sample_rate).T,axis=0)        \n",
    "        feature.append(mels)\n",
    "        label.append(df[\"classID\"][i])\n",
    "    return [feature, label]\n",
    "\n",
    "temp = parser(df)\n",
    "temp = np.array(temp)\n",
    "data = temp.transpose()\n",
    "X_ = data[:, 0]\n",
    "Y = data[:, 1]\n",
    "print(X_.shape, Y.shape)\n",
    "X = np.empty([data_size+1, 128])\n",
    "\n",
    "# for unknown label 10= unknown\n",
    "Y = np.append(Y,10)\n",
    "\n",
    "for i in range(data_size):\n",
    "    X[i] = (X_[i])\n",
    "\n",
    "Y = to_categorical(Y)\n",
    "\n",
    "test_size = 0.15\n",
    "X_train, X_test, Y_train, Y_test = train_test_split(X, Y,random_state = 1,test_size = test_size)\n",
    "X_total,Y_total = shuffle(X, Y)\n",
    "X_total = X_total.reshape(data_size+1,16,8,1)\n",
    "X_train = X_train.reshape(round((data_size+1)*(1-test_size)),16,8,1)\n",
    "X_test = X_test.reshape(round((data_size+1)*test_size),16,8,1)\n",
    "input_dim = (16,8,1)\n",
    "# input_dim is fixed to 128 as we use melspectrogram from librosa -> 16*8*1 = 128\n"
   ]
  },
  {
   "cell_type": "code",
   "execution_count": 38,
   "metadata": {},
   "outputs": [
    {
     "name": "stdout",
     "output_type": "stream",
     "text": [
      "Epoch 1/90\n",
      "167/167 [==============================] - 10s 56ms/step - loss: 1.6894 - accuracy: 0.4659 - val_loss: 1.4600 - val_accuracy: 0.5195\n",
      "Epoch 2/90\n",
      "167/167 [==============================] - 9s 55ms/step - loss: 1.2495 - accuracy: 0.5783 - val_loss: 1.2364 - val_accuracy: 0.5976\n",
      "Epoch 3/90\n",
      "167/167 [==============================] - 9s 53ms/step - loss: 1.1107 - accuracy: 0.6260 - val_loss: 1.1693 - val_accuracy: 0.6258\n",
      "Epoch 4/90\n",
      "167/167 [==============================] - 9s 55ms/step - loss: 0.9846 - accuracy: 0.6635 - val_loss: 1.0102 - val_accuracy: 0.6676\n",
      "Epoch 5/90\n",
      "167/167 [==============================] - 9s 56ms/step - loss: 0.8994 - accuracy: 0.6927 - val_loss: 0.9238 - val_accuracy: 0.7026\n",
      "Epoch 6/90\n",
      "167/167 [==============================] - 9s 52ms/step - loss: 0.8191 - accuracy: 0.7196 - val_loss: 0.9933 - val_accuracy: 0.6837\n",
      "Epoch 7/90\n",
      "167/167 [==============================] - 8s 51ms/step - loss: 0.7676 - accuracy: 0.7421 - val_loss: 0.8905 - val_accuracy: 0.7079\n",
      "Epoch 8/90\n",
      "167/167 [==============================] - 9s 52ms/step - loss: 0.7065 - accuracy: 0.7576 - val_loss: 0.9146 - val_accuracy: 0.7160\n",
      "Epoch 9/90\n",
      "167/167 [==============================] - 9s 52ms/step - loss: 0.6536 - accuracy: 0.7799 - val_loss: 0.8227 - val_accuracy: 0.7376\n",
      "Epoch 10/90\n",
      "167/167 [==============================] - 9s 53ms/step - loss: 0.6004 - accuracy: 0.7972 - val_loss: 0.7596 - val_accuracy: 0.7564\n",
      "Epoch 11/90\n",
      "167/167 [==============================] - 9s 53ms/step - loss: 0.5641 - accuracy: 0.8081 - val_loss: 0.7162 - val_accuracy: 0.7752\n",
      "Epoch 12/90\n",
      "167/167 [==============================] - 9s 53ms/step - loss: 0.5169 - accuracy: 0.8272 - val_loss: 0.7187 - val_accuracy: 0.7699\n",
      "Epoch 13/90\n",
      "167/167 [==============================] - 9s 53ms/step - loss: 0.4749 - accuracy: 0.8404 - val_loss: 0.7142 - val_accuracy: 0.7752\n",
      "Epoch 14/90\n",
      "167/167 [==============================] - 9s 54ms/step - loss: 0.4419 - accuracy: 0.8490 - val_loss: 0.7278 - val_accuracy: 0.7900\n",
      "Epoch 15/90\n",
      "167/167 [==============================] - 9s 53ms/step - loss: 0.4228 - accuracy: 0.8540 - val_loss: 0.7085 - val_accuracy: 0.7712\n",
      "Epoch 16/90\n",
      "167/167 [==============================] - 9s 53ms/step - loss: 0.4217 - accuracy: 0.8560 - val_loss: 0.7525 - val_accuracy: 0.7699\n",
      "Epoch 17/90\n",
      "167/167 [==============================] - 9s 53ms/step - loss: 0.3827 - accuracy: 0.8665 - val_loss: 0.6698 - val_accuracy: 0.7954\n",
      "Epoch 18/90\n",
      "167/167 [==============================] - 9s 54ms/step - loss: 0.3606 - accuracy: 0.8743 - val_loss: 0.6885 - val_accuracy: 0.7968\n",
      "Epoch 19/90\n",
      "167/167 [==============================] - 9s 54ms/step - loss: 0.3513 - accuracy: 0.8787 - val_loss: 0.6397 - val_accuracy: 0.8170\n",
      "Epoch 20/90\n",
      "167/167 [==============================] - 9s 54ms/step - loss: 0.3214 - accuracy: 0.8918 - val_loss: 0.6866 - val_accuracy: 0.7941\n",
      "Epoch 21/90\n",
      "167/167 [==============================] - 9s 54ms/step - loss: 0.3134 - accuracy: 0.8921 - val_loss: 0.6410 - val_accuracy: 0.8264\n",
      "Epoch 22/90\n",
      "167/167 [==============================] - 9s 53ms/step - loss: 0.2848 - accuracy: 0.9013 - val_loss: 0.6296 - val_accuracy: 0.8250\n",
      "Epoch 23/90\n",
      "167/167 [==============================] - 9s 53ms/step - loss: 0.2743 - accuracy: 0.9094 - val_loss: 0.6612 - val_accuracy: 0.8291\n",
      "Epoch 24/90\n",
      "167/167 [==============================] - 9s 54ms/step - loss: 0.2634 - accuracy: 0.9114 - val_loss: 0.6015 - val_accuracy: 0.8277\n",
      "Epoch 25/90\n",
      "167/167 [==============================] - 9s 53ms/step - loss: 0.2517 - accuracy: 0.9210 - val_loss: 0.6362 - val_accuracy: 0.8237\n",
      "Epoch 26/90\n",
      "167/167 [==============================] - 9s 53ms/step - loss: 0.2453 - accuracy: 0.9189 - val_loss: 0.6790 - val_accuracy: 0.8170\n",
      "Epoch 27/90\n",
      "167/167 [==============================] - 9s 54ms/step - loss: 0.2298 - accuracy: 0.9238 - val_loss: 0.6752 - val_accuracy: 0.8452\n",
      "Epoch 28/90\n",
      "167/167 [==============================] - 9s 54ms/step - loss: 0.2332 - accuracy: 0.9231 - val_loss: 0.5976 - val_accuracy: 0.8291\n",
      "Epoch 29/90\n",
      "167/167 [==============================] - 9s 54ms/step - loss: 0.2193 - accuracy: 0.9266 - val_loss: 0.5692 - val_accuracy: 0.8452\n",
      "Epoch 30/90\n",
      "167/167 [==============================] - 9s 54ms/step - loss: 0.2088 - accuracy: 0.9326 - val_loss: 0.6176 - val_accuracy: 0.8277\n",
      "Epoch 31/90\n",
      "167/167 [==============================] - 9s 54ms/step - loss: 0.2120 - accuracy: 0.9292 - val_loss: 0.6142 - val_accuracy: 0.8291\n",
      "Epoch 32/90\n",
      "167/167 [==============================] - 9s 54ms/step - loss: 0.1892 - accuracy: 0.9349 - val_loss: 0.6017 - val_accuracy: 0.8264\n",
      "Epoch 33/90\n",
      "167/167 [==============================] - 9s 54ms/step - loss: 0.1851 - accuracy: 0.9374 - val_loss: 0.6211 - val_accuracy: 0.8318\n",
      "Epoch 34/90\n",
      "167/167 [==============================] - 9s 54ms/step - loss: 0.1872 - accuracy: 0.9380 - val_loss: 0.6158 - val_accuracy: 0.8412\n",
      "Epoch 35/90\n",
      "167/167 [==============================] - 9s 54ms/step - loss: 0.1743 - accuracy: 0.9416 - val_loss: 0.6541 - val_accuracy: 0.8358\n",
      "Epoch 36/90\n",
      "167/167 [==============================] - 9s 55ms/step - loss: 0.1838 - accuracy: 0.9424 - val_loss: 0.6345 - val_accuracy: 0.8452\n",
      "Epoch 37/90\n",
      "167/167 [==============================] - 9s 55ms/step - loss: 0.1782 - accuracy: 0.9385 - val_loss: 0.6563 - val_accuracy: 0.8291\n",
      "Epoch 38/90\n",
      "167/167 [==============================] - 9s 56ms/step - loss: 0.1596 - accuracy: 0.9473 - val_loss: 0.5959 - val_accuracy: 0.8466\n",
      "Epoch 39/90\n",
      "167/167 [==============================] - 9s 55ms/step - loss: 0.1642 - accuracy: 0.9443 - val_loss: 0.5819 - val_accuracy: 0.8573\n",
      "Epoch 40/90\n",
      "167/167 [==============================] - 9s 55ms/step - loss: 0.1533 - accuracy: 0.9504 - val_loss: 0.6094 - val_accuracy: 0.8439\n",
      "Epoch 41/90\n",
      "167/167 [==============================] - 9s 55ms/step - loss: 0.1600 - accuracy: 0.9449 - val_loss: 0.6221 - val_accuracy: 0.8385\n",
      "Epoch 42/90\n",
      "167/167 [==============================] - 9s 55ms/step - loss: 0.1460 - accuracy: 0.9516 - val_loss: 0.5981 - val_accuracy: 0.8452\n",
      "Epoch 43/90\n",
      "167/167 [==============================] - 9s 55ms/step - loss: 0.1459 - accuracy: 0.9518 - val_loss: 0.5992 - val_accuracy: 0.8398\n",
      "Epoch 44/90\n",
      "167/167 [==============================] - 9s 55ms/step - loss: 0.1417 - accuracy: 0.9534 - val_loss: 0.5867 - val_accuracy: 0.8358\n",
      "Epoch 45/90\n",
      "167/167 [==============================] - 9s 55ms/step - loss: 0.1502 - accuracy: 0.9497 - val_loss: 0.5912 - val_accuracy: 0.8533\n",
      "Epoch 46/90\n",
      "167/167 [==============================] - 9s 54ms/step - loss: 0.1373 - accuracy: 0.9566 - val_loss: 0.6471 - val_accuracy: 0.8304\n",
      "Epoch 47/90\n",
      "167/167 [==============================] - 9s 54ms/step - loss: 0.1323 - accuracy: 0.9578 - val_loss: 0.6785 - val_accuracy: 0.8345\n",
      "Epoch 48/90\n",
      "167/167 [==============================] - 9s 54ms/step - loss: 0.1490 - accuracy: 0.9510 - val_loss: 0.6625 - val_accuracy: 0.8264\n",
      "Epoch 49/90\n",
      "167/167 [==============================] - 9s 54ms/step - loss: 0.1294 - accuracy: 0.9570 - val_loss: 0.6611 - val_accuracy: 0.8385\n",
      "Epoch 50/90\n",
      "167/167 [==============================] - 9s 54ms/step - loss: 0.1198 - accuracy: 0.9614 - val_loss: 0.7227 - val_accuracy: 0.8371\n",
      "Epoch 51/90\n",
      "167/167 [==============================] - 9s 54ms/step - loss: 0.1380 - accuracy: 0.9533 - val_loss: 0.6969 - val_accuracy: 0.8412\n",
      "Epoch 52/90\n",
      "167/167 [==============================] - 9s 54ms/step - loss: 0.1132 - accuracy: 0.9615 - val_loss: 0.6717 - val_accuracy: 0.8385\n",
      "Epoch 53/90\n",
      "167/167 [==============================] - 9s 54ms/step - loss: 0.1243 - accuracy: 0.9603 - val_loss: 0.6570 - val_accuracy: 0.8452\n",
      "Epoch 54/90\n",
      "167/167 [==============================] - 9s 55ms/step - loss: 0.1250 - accuracy: 0.9597 - val_loss: 0.6575 - val_accuracy: 0.8506\n",
      "Epoch 55/90\n",
      "167/167 [==============================] - 9s 54ms/step - loss: 0.1261 - accuracy: 0.9593 - val_loss: 0.6195 - val_accuracy: 0.8573\n",
      "Epoch 56/90\n",
      "167/167 [==============================] - 9s 54ms/step - loss: 0.1106 - accuracy: 0.9636 - val_loss: 0.6538 - val_accuracy: 0.8560\n",
      "Epoch 57/90\n",
      "167/167 [==============================] - 9s 54ms/step - loss: 0.1092 - accuracy: 0.9645 - val_loss: 0.6378 - val_accuracy: 0.8627\n",
      "Epoch 58/90\n",
      "167/167 [==============================] - 9s 54ms/step - loss: 0.1062 - accuracy: 0.9633 - val_loss: 0.7488 - val_accuracy: 0.8479\n",
      "Epoch 59/90\n",
      "167/167 [==============================] - 9s 54ms/step - loss: 0.1217 - accuracy: 0.9623 - val_loss: 0.6654 - val_accuracy: 0.8573\n",
      "Epoch 60/90\n",
      "167/167 [==============================] - 9s 54ms/step - loss: 0.1056 - accuracy: 0.9668 - val_loss: 0.6533 - val_accuracy: 0.8506\n",
      "Epoch 61/90\n",
      "167/167 [==============================] - 9s 54ms/step - loss: 0.0939 - accuracy: 0.9689 - val_loss: 0.6341 - val_accuracy: 0.8573\n",
      "Epoch 62/90\n",
      "167/167 [==============================] - 9s 54ms/step - loss: 0.1049 - accuracy: 0.9668 - val_loss: 0.6863 - val_accuracy: 0.8425\n",
      "Epoch 63/90\n",
      "167/167 [==============================] - 9s 54ms/step - loss: 0.1060 - accuracy: 0.9683 - val_loss: 0.7189 - val_accuracy: 0.8385\n",
      "Epoch 64/90\n",
      "167/167 [==============================] - 9s 54ms/step - loss: 0.1187 - accuracy: 0.9629 - val_loss: 0.6738 - val_accuracy: 0.8439\n",
      "Epoch 65/90\n",
      "167/167 [==============================] - 9s 55ms/step - loss: 0.1139 - accuracy: 0.9633 - val_loss: 0.7014 - val_accuracy: 0.8439\n",
      "Epoch 66/90\n",
      "167/167 [==============================] - 9s 54ms/step - loss: 0.1132 - accuracy: 0.9662 - val_loss: 0.7233 - val_accuracy: 0.8358\n",
      "Epoch 67/90\n",
      "167/167 [==============================] - 9s 54ms/step - loss: 0.1001 - accuracy: 0.9683 - val_loss: 0.7385 - val_accuracy: 0.8371\n",
      "Epoch 68/90\n",
      "167/167 [==============================] - 9s 54ms/step - loss: 0.1133 - accuracy: 0.9650 - val_loss: 0.6935 - val_accuracy: 0.8318\n",
      "Epoch 69/90\n",
      "167/167 [==============================] - 9s 54ms/step - loss: 0.1092 - accuracy: 0.9647 - val_loss: 0.6954 - val_accuracy: 0.8439\n",
      "Epoch 70/90\n",
      "167/167 [==============================] - 9s 54ms/step - loss: 0.1000 - accuracy: 0.9689 - val_loss: 0.7417 - val_accuracy: 0.8358\n",
      "Epoch 71/90\n",
      "167/167 [==============================] - 9s 55ms/step - loss: 0.0975 - accuracy: 0.9704 - val_loss: 0.7145 - val_accuracy: 0.8452\n",
      "Epoch 72/90\n",
      "167/167 [==============================] - 9s 54ms/step - loss: 0.0880 - accuracy: 0.9716 - val_loss: 0.7281 - val_accuracy: 0.8371\n",
      "Epoch 73/90\n",
      "167/167 [==============================] - 9s 55ms/step - loss: 0.1015 - accuracy: 0.9681 - val_loss: 0.7220 - val_accuracy: 0.8358\n",
      "Epoch 74/90\n",
      "167/167 [==============================] - 9s 54ms/step - loss: 0.1012 - accuracy: 0.9693 - val_loss: 0.7517 - val_accuracy: 0.8345\n",
      "Epoch 75/90\n",
      "167/167 [==============================] - 9s 54ms/step - loss: 0.0991 - accuracy: 0.9701 - val_loss: 0.7104 - val_accuracy: 0.8493\n",
      "Epoch 76/90\n",
      "167/167 [==============================] - 9s 54ms/step - loss: 0.0826 - accuracy: 0.9737 - val_loss: 0.6845 - val_accuracy: 0.8493\n",
      "Epoch 77/90\n",
      "167/167 [==============================] - 9s 55ms/step - loss: 0.0934 - accuracy: 0.9692 - val_loss: 0.6836 - val_accuracy: 0.8466\n",
      "Epoch 78/90\n",
      "167/167 [==============================] - 9s 54ms/step - loss: 0.0814 - accuracy: 0.9740 - val_loss: 0.7521 - val_accuracy: 0.8371\n",
      "Epoch 79/90\n",
      "167/167 [==============================] - 9s 54ms/step - loss: 0.0955 - accuracy: 0.9687 - val_loss: 0.6919 - val_accuracy: 0.8493\n",
      "Epoch 80/90\n",
      "167/167 [==============================] - 9s 54ms/step - loss: 0.0930 - accuracy: 0.9705 - val_loss: 0.7156 - val_accuracy: 0.8452\n",
      "Epoch 81/90\n",
      "167/167 [==============================] - 9s 55ms/step - loss: 0.0950 - accuracy: 0.9693 - val_loss: 0.6713 - val_accuracy: 0.8587\n",
      "Epoch 82/90\n",
      "167/167 [==============================] - 9s 54ms/step - loss: 0.0915 - accuracy: 0.9686 - val_loss: 0.7131 - val_accuracy: 0.8466\n",
      "Epoch 83/90\n",
      "167/167 [==============================] - 9s 54ms/step - loss: 0.0895 - accuracy: 0.9719 - val_loss: 0.6238 - val_accuracy: 0.8560\n",
      "Epoch 84/90\n",
      "167/167 [==============================] - 9s 55ms/step - loss: 0.0900 - accuracy: 0.9711 - val_loss: 0.7015 - val_accuracy: 0.8533\n",
      "Epoch 85/90\n",
      "167/167 [==============================] - 9s 54ms/step - loss: 0.0907 - accuracy: 0.9713 - val_loss: 0.6629 - val_accuracy: 0.8520\n",
      "Epoch 86/90\n",
      "167/167 [==============================] - 9s 56ms/step - loss: 0.0864 - accuracy: 0.9699 - val_loss: 0.7163 - val_accuracy: 0.8506\n",
      "Epoch 87/90\n",
      "167/167 [==============================] - 10s 59ms/step - loss: 0.0823 - accuracy: 0.9737 - val_loss: 0.7063 - val_accuracy: 0.8479\n",
      "Epoch 88/90\n",
      "167/167 [==============================] - 10s 60ms/step - loss: 0.0878 - accuracy: 0.9722 - val_loss: 0.6816 - val_accuracy: 0.8546\n",
      "Epoch 89/90\n",
      "167/167 [==============================] - 10s 60ms/step - loss: 0.0807 - accuracy: 0.9726 - val_loss: 0.7051 - val_accuracy: 0.8520\n",
      "Epoch 90/90\n",
      "167/167 [==============================] - 10s 60ms/step - loss: 0.0721 - accuracy: 0.9766 - val_loss: 0.6923 - val_accuracy: 0.8587\n"
     ]
    },
    {
     "data": {
      "text/plain": [
       "<keras.callbacks.History at 0x1cc0fba4ca0>"
      ]
     },
     "execution_count": 38,
     "metadata": {},
     "output_type": "execute_result"
    }
   ],
   "source": [
    "input_dim = (16,8,1)\n",
    "model = Sequential()\n",
    "\n",
    "model.add(Conv2D(32, (2,2), strides=1, padding = \"same\", activation = \"relu\", input_shape = input_dim))\n",
    "model.add(MaxPool2D(pool_size=(2, 2), strides=1))\n",
    "model.add(Dropout(0.1))\n",
    "model.add(Conv2D(128, (2,2), strides=1, padding = \"same\", activation = \"relu\"))\n",
    "model.add(MaxPool2D(pool_size=(2, 2),strides=1))\n",
    "model.add(Dropout(0.6))\n",
    "model.add(Flatten())\n",
    "model.add(Dense(1024, activation = \"tanh\"))\n",
    "model.add(Dense(11, activation = \"softmax\"))\n",
    "\n",
    "Optimizer = keras.optimizers.Adam(learning_rate=0.001)\n",
    "model.compile(optimizer = Optimizer, loss = 'categorical_crossentropy', metrics = ['accuracy'])\n",
    "model.fit(X_train,Y_train, validation_split=0.1, epochs=90, batch_size=40)"
   ]
  },
  {
   "cell_type": "code",
   "execution_count": 39,
   "metadata": {},
   "outputs": [],
   "source": [
    "def unknown_pred(predictions, threshold):\n",
    "    new_predict = predictions\n",
    "    for i in range(len(predictions)):\n",
    "        for j in range(len(predictions[0])):\n",
    "            if new_predict[i][j]< threshold:\n",
    "                new_predict[i][j]=0\n",
    "\n",
    "    new_predict= np.array(new_predict)\n",
    "    for i in range(len(new_predict)):\n",
    "        if max(new_predict[i]) != 0:\n",
    "            new_predict[i][10] = 0\n",
    "        else:\n",
    "            new_predict[i][10] = 1\n",
    "\n",
    "\n",
    "    return new_predict"
   ]
  },
  {
   "cell_type": "code",
   "execution_count": 40,
   "metadata": {},
   "outputs": [
    {
     "name": "stdout",
     "output_type": "stream",
     "text": [
      "41/41 [==============================] - 0s 8ms/step - loss: 0.5660 - accuracy: 0.8817\n"
     ]
    }
   ],
   "source": [
    "predictions = model.predict(X_test, batch_size = 30)\n",
    "score = model.evaluate(X_test, Y_test)\n",
    "PM_2 = unknown_pred(predictions, 0.5)\n",
    "round_preds = np.argmax(PM_2, axis = -1)\n",
    "round_y = np.argmax(Y_test, axis = -1)"
   ]
  },
  {
   "cell_type": "code",
   "execution_count": 41,
   "metadata": {},
   "outputs": [],
   "source": [
    "def plot_confusion_matrix(cm, classes,\n",
    "                        normalize=False,\n",
    "                        title='Confusion matrix',\n",
    "                        cmap=plt.cm.Blues):\n",
    "    \"\"\"\n",
    "    This function prints and plots the confusion matrix.\n",
    "    Normalization can be applied by setting `normalize=True`.\n",
    "    \"\"\"\n",
    "    plt.imshow(cm, interpolation='nearest', cmap=cmap)\n",
    "    plt.title(title)\n",
    "    plt.colorbar()\n",
    "    tick_marks = np.arange(len(classes))\n",
    "    plt.xticks(tick_marks, classes, rotation=45)\n",
    "    plt.yticks(tick_marks, classes)\n",
    "\n",
    "    if normalize:\n",
    "        cm = cm.astype('float') / cm.sum(axis=1)[:, np.newaxis]\n",
    "        print(\"Normalized confusion matrix\")\n",
    "    else:\n",
    "        print('Confusion matrix, without normalization')\n",
    "\n",
    "    print(cm)\n",
    "\n",
    "    thresh = cm.max() / 2.\n",
    "    for i, j in itertools.product(range(cm.shape[0]), range(cm.shape[1])):\n",
    "        plt.text(j, i, cm[i, j],\n",
    "            horizontalalignment=\"center\",\n",
    "            color=\"white\" if cm[i, j] > thresh else \"black\")\n",
    "\n",
    "    plt.tight_layout()\n",
    "    plt.ylabel('True label')\n",
    "    plt.xlabel('Predicted label')"
   ]
  },
  {
   "cell_type": "code",
   "execution_count": 42,
   "metadata": {},
   "outputs": [
    {
     "name": "stdout",
     "output_type": "stream",
     "text": [
      "Confusion matrix, without normalization\n",
      "[[141   0   1   0   0   3   0   0   0   1   5]\n",
      " [  1  66   2   1   0   0   0   0   1   2   0]\n",
      " [  1   0 102  20   0   1   0   0  10   4   3]\n",
      " [  3   1   8 117   0   1   1   0   6   2   4]\n",
      " [  3   1   1   1 131   0   1   3   0   4   1]\n",
      " [  1   0   2   0   1 142   0   0   1   2   0]\n",
      " [  0   0   4   0   1   0  55   1   2   1   0]\n",
      " [  0   1   2   0   6   0   0 164   0   1   2]\n",
      " [  0   0   3   5   0   1   0   0 127   0   1]\n",
      " [  1   4   5   5   3   0   0   0   3 106   3]\n",
      " [  0   0   0   0   0   0   0   0   0   0   0]]\n"
     ]
    },
    {
     "data": {
      "image/png": "[encoded data removed]",
      "text/plain": [
       "<Figure size 432x288 with 2 Axes>"
      ]
     },
     "metadata": {
      "needs_background": "light"
     },
     "output_type": "display_data"
    }
   ],
   "source": [
    "cm_plot_labels = [0,1,2,3,4,5,6,7,8,9,10]\n",
    "conf_mat = confusion_matrix(y_true = round_y , y_pred=round_preds, labels=cm_plot_labels)\n",
    "plot_confusion_matrix(cm=conf_mat, classes=cm_plot_labels, title='confusion Matrix')"
   ]
  },
  {
   "cell_type": "code",
   "execution_count": 43,
   "metadata": {},
   "outputs": [],
   "source": [
    "counter = 1\n",
    "while True:\n",
    "    file_name = \"N_Model_\" + str(counter) + \".h5\"\n",
    "    if os.path.isfile(file_name) is False:\n",
    "        model.save(file_name)\n",
    "        break\n",
    "    else:\n",
    "        counter = counter +1"
   ]
  },
  {
   "cell_type": "code",
   "execution_count": 44,
   "metadata": {},
   "outputs": [
    {
     "name": "stdout",
     "output_type": "stream",
     "text": [
      "0.8039558508578797\n",
      "0.8786259541984733\n",
      "[0.93377483 0.90410959 0.75276753 0.80136986 0.90972222 0.95622896\n",
      " 0.90909091 0.95348837 0.88501742 0.83794466 0.        ]\n",
      "0.8848928515187897\n"
     ]
    }
   ],
   "source": [
    "print(f1_score(round_y, round_preds, average='macro'))\n",
    "print(f1_score(round_y, round_preds, average='micro'))\n",
    "print(f1_score(round_y, round_preds, average=None))\n",
    "print(f1_score(round_y, round_preds, average='weighted'))"
   ]
  }
 ],
 "metadata": {
  "interpreter": {
   "hash": "dd58d3b1864a52313997565a9364abe7f872e39015cb385aa0d3966db8d680de"
  },
  "kernelspec": {
   "display_name": "Python 3.9.5 64-bit",
   "language": "python",
   "name": "python3"
  },
  "language_info": {
   "codemirror_mode": {
    "name": "ipython",
    "version": 3
   },
   "file_extension": ".py",
   "mimetype": "text/x-python",
   "name": "python",
   "nbconvert_exporter": "python",
   "pygments_lexer": "ipython3",
   "version": "3.9.5"
  },
  "orig_nbformat": 4
 },
 "nbformat": 4,
 "nbformat_minor": 2
}
